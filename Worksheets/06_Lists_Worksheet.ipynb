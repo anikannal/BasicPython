{
 "cells": [
  {
   "cell_type": "markdown",
   "metadata": {},
   "source": [
    "# Lists Worksheet"
   ]
  },
  {
   "cell_type": "markdown",
   "metadata": {},
   "source": [
    "## Exercise 1 - Fill the missing pieces of the count_even_numbers function\n",
    "\n",
    "Fill ____ pieces of the count_even_numbers implemention in order to pass the assertions. \n",
    "You can assume that numbers argument is a list of integers."
   ]
  },
  {
   "cell_type": "code",
   "execution_count": null,
   "metadata": {},
   "outputs": [],
   "source": [
    "## Excercise 1 - code cell\n",
    "\n",
    "____ count_even_numbers(numbers):\n",
    "    count = 0\n",
    "    for num in ____:\n",
    "        if ____ % 2 == ____:\n",
    "            count += ____\n",
    "    _____ _____"
   ]
  },
  {
   "cell_type": "code",
   "execution_count": null,
   "metadata": {
    "editable": false
   },
   "outputs": [],
   "source": [
    "## Run this cell to validate your code.           ##\n",
    "## This is a test cell for the Excercise 1 Cell   ##\n",
    "## Please do not modify the contents of this cell ##\n",
    "## These are the test cases your code should pass ##\n",
    "\n",
    "assert count_even_numbers([1, 2, 3, 4, 5, 6]) == 3\n",
    "assert count_even_numbers([1, 3, 5, 7]) == 0\n",
    "assert count_even_numbers([-2, 2, -10, 8]) == 4\n",
    "\n",
    "print(\"All Passed!\")\n",
    "###################################################"
   ]
  },
  {
   "cell_type": "markdown",
   "metadata": {},
   "source": [
    "## Exercise 2 - Searching for wanted people\n",
    "\n",
    "Implement find_wanted_people function which takes a list of names (strings) as argument. The function should return a list of names which are present both in WANTED_PEOPLE and in the name list given as argument to the function."
   ]
  },
  {
   "cell_type": "code",
   "execution_count": null,
   "metadata": {
    "editable": false
   },
   "outputs": [],
   "source": [
    "WANTED_PEOPLE = ['John Doe', 'Clint Eastwood', 'Chuck Norris']"
   ]
  },
  {
   "cell_type": "code",
   "execution_count": null,
   "metadata": {},
   "outputs": [],
   "source": [
    "# Exercise 2 - code cell\n",
    "\n",
    "def find_wanted_people(lst):\n",
    "    ## your code here\n"
   ]
  },
  {
   "cell_type": "code",
   "execution_count": null,
   "metadata": {
    "editable": false
   },
   "outputs": [],
   "source": [
    "## Run this cell to validate your code.           ##\n",
    "## This is a test cell for the Excercise 2 Cell   ##\n",
    "## Please do not modify the contents of this cell ##\n",
    "## These are the test cases your code should pass ## \n",
    "\n",
    "people_to_check1 = ['Donald Duck', 'Clint Eastwood', 'John Doe', 'Barack Obama']\n",
    "wanted1 = find_wanted_people(people_to_check1)\n",
    "assert len(wanted1) == 2\n",
    "assert 'John Doe' in wanted1\n",
    "assert 'Clint Eastwood'in wanted1\n",
    "\n",
    "people_to_check2 = ['Donald Duck', 'Mickey Mouse', 'Zorro', 'Superman', 'Robin Hood']\n",
    "wanted2 = find_wanted_people(people_to_check2)\n",
    "assert wanted2 == []\n",
    "\n",
    "print(\"All Passed!\")\n",
    "###################################################"
   ]
  },
  {
   "cell_type": "markdown",
   "metadata": {},
   "source": [
    "## Exercise 3 - Fill the missing pieces\n",
    "\n",
    "Fill the ____ parts of the code below."
   ]
  },
  {
   "cell_type": "code",
   "execution_count": null,
   "metadata": {},
   "outputs": [],
   "source": [
    "# Exercise 3 - code cell\n",
    "\n",
    "# Let's create an empty list\n",
    "my_list = ____\n",
    "\n",
    "# Let's add some values\n",
    "my_list.____('Python')\n",
    "my_list.____('is ok')\n",
    "my_list.____('sometimes')\n",
    "\n",
    "# Let's remove 'sometimes'\n",
    "my_list.____('sometimes')\n",
    "\n",
    "# Let's change the second item\n",
    "my_list[____] = 'is neat'"
   ]
  },
  {
   "cell_type": "code",
   "execution_count": null,
   "metadata": {
    "editable": false
   },
   "outputs": [],
   "source": [
    "## Run this cell to validate your code.           ##\n",
    "## This is a test cell for the Excercise 3 Cell   ##\n",
    "## Please do not modify the contents of this cell ##\n",
    "## These are the test cases your code should pass ## \n",
    "\n",
    "assert my_list == ['Python', 'is neat']\n",
    "\n",
    "print(\"All Passed!\")\n",
    "###################################################"
   ]
  },
  {
   "cell_type": "markdown",
   "metadata": {},
   "source": [
    "## Exercise 4 - Create a new list without modifiying the original one"
   ]
  },
  {
   "cell_type": "code",
   "execution_count": null,
   "metadata": {
    "editable": false
   },
   "outputs": [],
   "source": [
    "original = ['I', 'am', 'learning', 'hacking', 'in']"
   ]
  },
  {
   "cell_type": "code",
   "execution_count": null,
   "metadata": {},
   "outputs": [],
   "source": [
    "# Exercise 4 - code cell\n",
    "\n",
    "modified = "
   ]
  },
  {
   "cell_type": "code",
   "execution_count": null,
   "metadata": {
    "editable": false
   },
   "outputs": [],
   "source": [
    "## Run this cell to validate your code.           ##\n",
    "## This is a test cell for the Excercise 4 Cell   ##\n",
    "## Please do not modify the contents of this cell ##\n",
    "## These are the test cases your code should pass ## \n",
    "\n",
    "assert original == ['I', 'am', 'learning', 'hacking', 'in']\n",
    "assert modified == ['I', 'am', 'learning', 'lists', 'in', 'Python']\n",
    "\n",
    "print(\"All Passed!\")\n",
    "###################################################"
   ]
  },
  {
   "cell_type": "markdown",
   "metadata": {},
   "source": [
    "## Exercise 5 - Create a merged sorted list"
   ]
  },
  {
   "cell_type": "code",
   "execution_count": null,
   "metadata": {
    "editable": false
   },
   "outputs": [],
   "source": [
    "list1 = [6, 12, 5]\n",
    "list2 = [6.2, 0, 14, 1]\n",
    "list3 = [0.9]"
   ]
  },
  {
   "cell_type": "code",
   "execution_count": null,
   "metadata": {},
   "outputs": [],
   "source": [
    "# Exercise 5 - code cell\n",
    "\n",
    "## your code here\n",
    "my_list = \n"
   ]
  },
  {
   "cell_type": "code",
   "execution_count": null,
   "metadata": {
    "editable": false
   },
   "outputs": [],
   "source": [
    "## Run this cell to validate your code.           ##\n",
    "## This is a test cell for the Excercise 5 Cell   ##\n",
    "## Please do not modify the contents of this cell ##\n",
    "## These are the test cases your code should pass ## \n",
    "\n",
    "print(my_list)\n",
    "assert my_list == [14, 12, 6.2, 6, 5, 1, 0.9, 0]\n",
    "\n",
    "print(\"All Passed!\")\n",
    "###################################################"
   ]
  },
  {
   "cell_type": "markdown",
   "metadata": {},
   "source": [
    "## Exercise 6 - Create a list of squares of all the even numbers less than 10"
   ]
  },
  {
   "cell_type": "code",
   "execution_count": null,
   "metadata": {
    "editable": false
   },
   "outputs": [],
   "source": [
    "sq_list = []"
   ]
  },
  {
   "cell_type": "code",
   "execution_count": null,
   "metadata": {},
   "outputs": [],
   "source": [
    "# Exercise 6 - code cell\n",
    "\n",
    "## your code here\n",
    "sq_list = \n"
   ]
  },
  {
   "cell_type": "code",
   "execution_count": null,
   "metadata": {
    "editable": false
   },
   "outputs": [],
   "source": [
    "## Run this cell to validate your code.           ##\n",
    "## This is a test cell for the Excercise 6 Cell   ##\n",
    "## Please do not modify the contents of this cell ##\n",
    "## These are the test cases your code should pass ## \n",
    "\n",
    "print(sq_list)\n",
    "assert sq_list == [0, 4, 16, 36, 64]\n",
    "\n",
    "print(\"All Passed!\")\n",
    "###################################################"
   ]
  },
  {
   "cell_type": "markdown",
   "metadata": {},
   "source": [
    "## Excercise 7 - Create a list of strings based on a list of numbers\n",
    "The rules:\n",
    "\n",
    "- If the number is a multiple of five and odd, the string should be 'five odd'\n",
    "- If the number is a multiple of five and even, the string should be 'five even'\n",
    "- If the number is odd, the string is 'odd'\n",
    "- If the number is even, the string is 'even'"
   ]
  },
  {
   "cell_type": "code",
   "execution_count": null,
   "metadata": {
    "editable": false
   },
   "outputs": [],
   "source": [
    "numbers = [1, 3, 4, 6, 81, 80, 100, 95]"
   ]
  },
  {
   "cell_type": "code",
   "execution_count": null,
   "metadata": {},
   "outputs": [],
   "source": [
    "# Exercise 7 - code cell\n",
    "\n",
    "## your code here\n",
    "\n",
    "my_list = "
   ]
  },
  {
   "cell_type": "code",
   "execution_count": null,
   "metadata": {
    "editable": false
   },
   "outputs": [],
   "source": [
    "## Run this cell to validate your code.           ##\n",
    "## This is a test cell for the Excercise 7 Cell   ##\n",
    "## Please do not modify the contents of this cell ##\n",
    "## These are the test cases your code should pass ##\n",
    "\n",
    "assert my_list == ['odd', 'odd', 'even', 'even', 'odd', 'five even', 'five even', 'five odd']\n",
    "\n",
    "print(\"All Passed!\")\n",
    "###################################################"
   ]
  }
 ],
 "metadata": {
  "kernelspec": {
   "display_name": "Python 3",
   "language": "python",
   "name": "python3"
  },
  "language_info": {
   "codemirror_mode": {
    "name": "ipython",
    "version": 3
   },
   "file_extension": ".py",
   "mimetype": "text/x-python",
   "name": "python",
   "nbconvert_exporter": "python",
   "pygments_lexer": "ipython3",
   "version": "3.7.4"
  },
  "varInspector": {
   "cols": {
    "lenName": 16,
    "lenType": 16,
    "lenVar": 40
   },
   "kernels_config": {
    "python": {
     "delete_cmd_postfix": "",
     "delete_cmd_prefix": "del ",
     "library": "var_list.py",
     "varRefreshCmd": "print(var_dic_list())"
    },
    "r": {
     "delete_cmd_postfix": ") ",
     "delete_cmd_prefix": "rm(",
     "library": "var_list.r",
     "varRefreshCmd": "cat(var_dic_list()) "
    }
   },
   "types_to_exclude": [
    "module",
    "function",
    "builtin_function_or_method",
    "instance",
    "_Feature"
   ],
   "window_display": false
  }
 },
 "nbformat": 4,
 "nbformat_minor": 2
}
