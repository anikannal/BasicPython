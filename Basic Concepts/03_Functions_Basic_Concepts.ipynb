{
 "cells": [
  {
   "cell_type": "markdown",
   "metadata": {},
   "source": [
    "# Functions\n",
    "\n",
    "A function is a group of statements that together perform a specific task. "
   ]
  },
  {
   "cell_type": "markdown",
   "metadata": {},
   "source": [
    "### Here's a video tutorial on `functions` in Python. It uses this notebook so you can code along with the video."
   ]
  },
  {
   "cell_type": "code",
   "execution_count": 1,
   "metadata": {},
   "outputs": [
    {
     "data": {
      "text/html": [
       "\n",
       "        <iframe\n",
       "            width=\"814\"\n",
       "            height=\"509\"\n",
       "            src=\"https://www.youtube.com/embed/RWkpOfXUDXA\"\n",
       "            frameborder=\"0\"\n",
       "            allowfullscreen\n",
       "        ></iframe>\n",
       "        "
      ],
      "text/plain": [
       "<IPython.lib.display.IFrame at 0x7fde508dc690>"
      ]
     },
     "execution_count": 1,
     "metadata": {},
     "output_type": "execute_result"
    }
   ],
   "source": [
    "## Run this cell (shift+enter) to see the video\n",
    "\n",
    "from IPython.display import IFrame\n",
    "IFrame(\"https://www.youtube.com/embed/RWkpOfXUDXA\", width=\"814\", height=\"509\")"
   ]
  },
  {
   "cell_type": "code",
   "execution_count": null,
   "metadata": {},
   "outputs": [],
   "source": [
    "def my_first_function():\n",
    "    print('Hello world!')\n",
    "\n",
    "my_first_function()  # Calling a function"
   ]
  },
  {
   "cell_type": "markdown",
   "metadata": {},
   "source": [
    "## Why functions?\n",
    "\n",
    "#### Divide a large piece code into modules for ease of coding and debugging\n",
    "#### Write once and reuse the same code\n",
    "#### Abstract the 'what' from the 'how'"
   ]
  },
  {
   "cell_type": "markdown",
   "metadata": {},
   "source": [
    "### Arguments"
   ]
  },
  {
   "cell_type": "code",
   "execution_count": null,
   "metadata": {},
   "outputs": [],
   "source": [
    "def greet_us(name1):\n",
    "    print('Hi '+ name1)\n",
    "\n",
    "x = greet_us('John Doe')\n",
    "print(x)"
   ]
  },
  {
   "cell_type": "code",
   "execution_count": null,
   "metadata": {},
   "outputs": [],
   "source": [
    "# Function with return value\n",
    "def add_numbers(num1,num2):\n",
    "    return num1+num2\n",
    "    \n",
    "x = add_numbers(1,2)\n",
    "print(x)"
   ]
  },
  {
   "cell_type": "markdown",
   "metadata": {},
   "source": [
    "### Keyword arguments"
   ]
  },
  {
   "cell_type": "code",
   "execution_count": null,
   "metadata": {},
   "outputs": [],
   "source": [
    "def my_fancy_calculation(first, second, third):\n",
    "    return first + second - third \n",
    "\n",
    "print(my_fancy_calculation(3, 2, 1))\n",
    "\n",
    "print(my_fancy_calculation(first=3, second=2, third=1))\n",
    "\n",
    "# # With keyword arguments you can mix the order\n",
    "print(my_fancy_calculation(third=1, first=3, second=2))\n",
    "\n",
    "# # You can mix arguments and keyword arguments but you have to start with arguments\n",
    "print(my_fancy_calculation(3, third=1, second=2))  "
   ]
  },
  {
   "cell_type": "markdown",
   "metadata": {},
   "source": [
    "### Default arguments"
   ]
  },
  {
   "cell_type": "code",
   "execution_count": null,
   "metadata": {
    "scrolled": true
   },
   "outputs": [],
   "source": [
    "def my_fancy_calculation_2(first, second=20, third=30):\n",
    "    return first + second + third \n",
    "\n",
    "ans1 = my_fancy_calculation_2(3) # use default values for second and third\n",
    "ans2 = my_fancy_calculation_2(3,5)\n",
    "print(ans1)\n",
    "print(ans2)"
   ]
  },
  {
   "cell_type": "code",
   "execution_count": null,
   "metadata": {},
   "outputs": [],
   "source": [
    "def my_fancy_calculation2(first=10, second=20, third=30):\n",
    "    return first + second + third \n",
    "\n",
    "print(my_fancy_calculation2(second=2))"
   ]
  },
  {
   "cell_type": "markdown",
   "metadata": {},
   "source": [
    "### Docstrings\n",
    "Strings for documenting your functions, methods, modules and variables."
   ]
  },
  {
   "cell_type": "code",
   "execution_count": null,
   "metadata": {},
   "outputs": [],
   "source": [
    "def print_sum(val1, val2):\n",
    "    \"\"\"Function which prints the sum of given arguments.\"\"\"\n",
    "    print('sum: ' + str(val1 + val2))\n",
    "\n",
    "print(help(print_sum))"
   ]
  },
  {
   "cell_type": "code",
   "execution_count": null,
   "metadata": {},
   "outputs": [],
   "source": [
    "def calculate_sum(val1, val2):\n",
    "    \"\"\"This is a longer docstring defining also the args and the return value. \n",
    "\n",
    "    Args:\n",
    "        val1: The first parameter.\n",
    "        val2: The second parameter.\n",
    "\n",
    "    Returns:\n",
    "        The sum of val1 and val2.\n",
    "        \n",
    "    \"\"\"\n",
    "    return val1 + val2\n",
    "\n",
    "print(help(calculate_sum))"
   ]
  },
  {
   "cell_type": "markdown",
   "metadata": {},
   "source": [
    "### [`pass`](https://docs.python.org/3/reference/simple_stmts.html#the-pass-statement) statement\n",
    "`pass` is a statement which does nothing when it's executed. It can be used e.g. a as placeholder to make the code syntatically correct while sketching the functions and/or classes of your application. For example, the following is valid Python. "
   ]
  },
  {
   "cell_type": "code",
   "execution_count": null,
   "metadata": {},
   "outputs": [],
   "source": [
    "def my_function(some_argument):\n",
    "    pass\n",
    "\n",
    "def my_other_function():\n",
    "    pass"
   ]
  },
  {
   "cell_type": "markdown",
   "metadata": {},
   "source": [
    "### Functions that return multiple values"
   ]
  },
  {
   "cell_type": "code",
   "execution_count": null,
   "metadata": {},
   "outputs": [],
   "source": [
    "def func_x(n1,n2):\n",
    "    return n1+n2, n1*n2\n",
    "\n",
    "_sum,_mult = func_x(2,3)\n",
    "\n",
    "print (_sum, _mult)"
   ]
  },
  {
   "cell_type": "markdown",
   "metadata": {},
   "source": [
    "### Passing a function as a parameter or an argument"
   ]
  },
  {
   "cell_type": "code",
   "execution_count": null,
   "metadata": {},
   "outputs": [],
   "source": [
    "def func_add(n1,n2):\n",
    "    return n1+n2\n",
    "\n",
    "def func_mult(n1,n2):\n",
    "    return n1*n2\n",
    "\n",
    "def func_operate(func,n1,n2):\n",
    "    return func(n1,n2)\n",
    "\n",
    "print(func_operate(func_add,2,3))\n",
    "print(func_operate(func_mult,2,3))"
   ]
  },
  {
   "cell_type": "markdown",
   "metadata": {},
   "source": [
    "### Lambda functions\n",
    "\n",
    "A lambda function is a small anonymous function.\n",
    "\n",
    "A lambda function can take any number of arguments, but can only have one expression.\n",
    "\n",
    "How does it look?\n",
    "\n",
    "`lambda arguments : expression`"
   ]
  },
  {
   "cell_type": "code",
   "execution_count": null,
   "metadata": {},
   "outputs": [],
   "source": [
    "x = lambda a : a + 10\n",
    "print(x(5))"
   ]
  },
  {
   "cell_type": "code",
   "execution_count": null,
   "metadata": {},
   "outputs": [],
   "source": [
    "x = lambda a, b, c : a + b + c\n",
    "print(x(5, 6, 2))"
   ]
  },
  {
   "cell_type": "markdown",
   "metadata": {},
   "source": [
    "#### How might one use a lambda function?"
   ]
  },
  {
   "cell_type": "code",
   "execution_count": null,
   "metadata": {},
   "outputs": [],
   "source": [
    "## Example 1\n",
    "\n",
    "def myfunc(n):\n",
    "    return lambda a : a * n\n",
    "\n",
    "doubler = myfunc(2)\n",
    "tripler = myfunc(3)\n",
    "\n",
    "print(doubler(2))\n",
    "print(doubler(3))\n",
    "\n",
    "print(tripler(2))\n",
    "print(tripler(3))\n"
   ]
  },
  {
   "cell_type": "code",
   "execution_count": null,
   "metadata": {},
   "outputs": [],
   "source": [
    "## Example 2\n",
    "\n",
    "numbers1 = [1, 2, 3] \n",
    "numbers2 = [4, 5, 6] \n",
    "\n",
    "numbers1+numbers2\n",
    "  \n",
    "result = map(lambda x, y: x + y, numbers1, numbers2) \n",
    "print(list(result))\n",
    "\n",
    "result = map(func_add, numbers1, numbers2)\n",
    "print(list(result))"
   ]
  },
  {
   "cell_type": "markdown",
   "metadata": {},
   "source": [
    "map() function in Python is a very useful tool when we start working with lists. But, if you are curious in the meantime here are a couple of links - \n",
    "\n",
    "To see a couple more examples of the map function click [here.](https://www.w3schools.com/python/ref_func_map.asp)\n",
    "\n",
    "To see a fairly detailed explanation and a few examples of how to use map() click [here.](https://www.learnpython.org/en/Map,_Filter,_Reduce)"
   ]
  },
  {
   "cell_type": "markdown",
   "metadata": {},
   "source": [
    "## Run the following code to test yourself on Functions in Python"
   ]
  },
  {
   "cell_type": "code",
   "execution_count": null,
   "metadata": {
    "editable": false
   },
   "outputs": [],
   "source": [
    "!rm -r Basic_Python_Data\n",
    "!git clone https://github.com/anikannal/Basic_Python_Data\n",
    "import Basic_Python_Data.quiz\n",
    "Basic_Python_Data.quiz.quiz_me('QB_Functions.xlsx')"
   ]
  }
 ],
 "metadata": {
  "kernelspec": {
   "display_name": "Python 3",
   "language": "python",
   "name": "python3"
  },
  "language_info": {
   "codemirror_mode": {
    "name": "ipython",
    "version": 3
   },
   "file_extension": ".py",
   "mimetype": "text/x-python",
   "name": "python",
   "nbconvert_exporter": "python",
   "pygments_lexer": "ipython3",
   "version": "3.7.4"
  },
  "varInspector": {
   "cols": {
    "lenName": 16,
    "lenType": 16,
    "lenVar": 40
   },
   "kernels_config": {
    "python": {
     "delete_cmd_postfix": "",
     "delete_cmd_prefix": "del ",
     "library": "var_list.py",
     "varRefreshCmd": "print(var_dic_list())"
    },
    "r": {
     "delete_cmd_postfix": ") ",
     "delete_cmd_prefix": "rm(",
     "library": "var_list.r",
     "varRefreshCmd": "cat(var_dic_list()) "
    }
   },
   "types_to_exclude": [
    "module",
    "function",
    "builtin_function_or_method",
    "instance",
    "_Feature"
   ],
   "window_display": true
  }
 },
 "nbformat": 4,
 "nbformat_minor": 2
}
